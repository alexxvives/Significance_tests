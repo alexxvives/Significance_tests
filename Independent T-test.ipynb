{
 "cells": [
  {
   "cell_type": "markdown",
   "id": "af4f8fd4",
   "metadata": {},
   "source": [
    "# Unpaired/Independent T-test"
   ]
  },
  {
   "cell_type": "markdown",
   "id": "e671d51e",
   "metadata": {
    "ExecuteTime": {
     "end_time": "2021-11-21T18:50:51.468677Z",
     "start_time": "2021-11-21T18:50:51.449250Z"
    }
   },
   "source": [
    "**Definition**<br>\n",
    "An independent t-test is a parametric approach used to compare means between two unrelated groups."
   ]
  },
  {
   "cell_type": "markdown",
   "id": "bbab43b1",
   "metadata": {},
   "source": [
    "## Data Import"
   ]
  },
  {
   "cell_type": "code",
   "execution_count": 2,
   "id": "194452c5",
   "metadata": {
    "ExecuteTime": {
     "end_time": "2021-12-18T04:21:20.227349Z",
     "start_time": "2021-12-18T04:21:17.059413Z"
    }
   },
   "outputs": [],
   "source": [
    "import numpy as np\n",
    "import pandas as pd\n",
    "import matplotlib.pyplot as plt\n",
    "import seaborn as sns\n",
    "import numpy.random as rnd\n",
    "from random import sample\n",
    "import statsmodels.api as sm\n",
    "import scipy.stats as stats\n",
    "import pingouin as pg\n",
    "\n",
    "import warnings\n",
    "warnings.filterwarnings(\"ignore\")\n",
    "\n",
    "sns.set_style('darkgrid')"
   ]
  },
  {
   "cell_type": "code",
   "execution_count": 4,
   "id": "3435f470",
   "metadata": {
    "ExecuteTime": {
     "end_time": "2021-12-18T04:21:34.792321Z",
     "start_time": "2021-12-18T04:21:34.666491Z"
    }
   },
   "outputs": [
    {
     "data": {
      "text/html": [
       "<div>\n",
       "<style scoped>\n",
       "    .dataframe tbody tr th:only-of-type {\n",
       "        vertical-align: middle;\n",
       "    }\n",
       "\n",
       "    .dataframe tbody tr th {\n",
       "        vertical-align: top;\n",
       "    }\n",
       "\n",
       "    .dataframe thead th {\n",
       "        text-align: right;\n",
       "    }\n",
       "</style>\n",
       "<table border=\"1\" class=\"dataframe\">\n",
       "  <thead>\n",
       "    <tr style=\"text-align: right;\">\n",
       "      <th></th>\n",
       "      <th>men</th>\n",
       "      <th>women</th>\n",
       "    </tr>\n",
       "  </thead>\n",
       "  <tbody>\n",
       "    <tr>\n",
       "      <th>1</th>\n",
       "      <td>181.5</td>\n",
       "      <td>175.4</td>\n",
       "    </tr>\n",
       "    <tr>\n",
       "      <th>2</th>\n",
       "      <td>187.3</td>\n",
       "      <td>172.1</td>\n",
       "    </tr>\n",
       "    <tr>\n",
       "      <th>3</th>\n",
       "      <td>175.3</td>\n",
       "      <td>181.1</td>\n",
       "    </tr>\n",
       "    <tr>\n",
       "      <th>4</th>\n",
       "      <td>178.3</td>\n",
       "      <td>165.2</td>\n",
       "    </tr>\n",
       "    <tr>\n",
       "      <th>5</th>\n",
       "      <td>169.0</td>\n",
       "      <td>166.3</td>\n",
       "    </tr>\n",
       "  </tbody>\n",
       "</table>\n",
       "</div>"
      ],
      "text/plain": [
       "     men  women\n",
       "1  181.5  175.4\n",
       "2  187.3  172.1\n",
       "3  175.3  181.1\n",
       "4  178.3  165.2\n",
       "5  169.0  166.3"
      ]
     },
     "execution_count": 4,
     "metadata": {},
     "output_type": "execute_result"
    }
   ],
   "source": [
    "# Dataset of height between men and women\n",
    "link = 'https://raw.githubusercontent.com/alexxvives/Significance_tests/main/Data/independent_Ttest_data.csv'\n",
    "df = pd.read_csv(link, index_col=0)\n",
    "\n",
    "df.head()"
   ]
  },
  {
   "cell_type": "code",
   "execution_count": 21,
   "id": "685799a0",
   "metadata": {
    "ExecuteTime": {
     "end_time": "2021-11-21T23:38:55.898932Z",
     "start_time": "2021-11-21T23:38:55.848075Z"
    }
   },
   "outputs": [
    {
     "data": {
      "text/html": [
       "<div>\n",
       "<style scoped>\n",
       "    .dataframe tbody tr th:only-of-type {\n",
       "        vertical-align: middle;\n",
       "    }\n",
       "\n",
       "    .dataframe tbody tr th {\n",
       "        vertical-align: top;\n",
       "    }\n",
       "\n",
       "    .dataframe thead th {\n",
       "        text-align: right;\n",
       "    }\n",
       "</style>\n",
       "<table border=\"1\" class=\"dataframe\">\n",
       "  <thead>\n",
       "    <tr style=\"text-align: right;\">\n",
       "      <th></th>\n",
       "      <th>count</th>\n",
       "      <th>mean</th>\n",
       "      <th>std</th>\n",
       "      <th>min</th>\n",
       "      <th>25%</th>\n",
       "      <th>50%</th>\n",
       "      <th>75%</th>\n",
       "      <th>max</th>\n",
       "    </tr>\n",
       "  </thead>\n",
       "  <tbody>\n",
       "    <tr>\n",
       "      <th>men</th>\n",
       "      <td>7.0</td>\n",
       "      <td>179.871429</td>\n",
       "      <td>6.216836</td>\n",
       "      <td>169.0</td>\n",
       "      <td>176.80</td>\n",
       "      <td>181.5</td>\n",
       "      <td>183.85</td>\n",
       "      <td>187.3</td>\n",
       "    </tr>\n",
       "    <tr>\n",
       "      <th>women</th>\n",
       "      <td>7.0</td>\n",
       "      <td>171.057143</td>\n",
       "      <td>5.697619</td>\n",
       "      <td>165.2</td>\n",
       "      <td>166.65</td>\n",
       "      <td>170.3</td>\n",
       "      <td>173.75</td>\n",
       "      <td>181.1</td>\n",
       "    </tr>\n",
       "  </tbody>\n",
       "</table>\n",
       "</div>"
      ],
      "text/plain": [
       "       count        mean       std    min     25%    50%     75%    max\n",
       "men      7.0  179.871429  6.216836  169.0  176.80  181.5  183.85  187.3\n",
       "women    7.0  171.057143  5.697619  165.2  166.65  170.3  173.75  181.1"
      ]
     },
     "execution_count": 21,
     "metadata": {},
     "output_type": "execute_result"
    }
   ],
   "source": [
    "df.describe().T"
   ]
  },
  {
   "cell_type": "code",
   "execution_count": 6,
   "id": "1a5c1ef3",
   "metadata": {
    "ExecuteTime": {
     "end_time": "2021-12-18T04:23:32.096535Z",
     "start_time": "2021-12-18T04:23:31.754750Z"
    }
   },
   "outputs": [
    {
     "data": {
      "image/png": "[encoded data removed]",
      "text/plain": [
       "<Figure size 1080x360 with 2 Axes>"
      ]
     },
     "metadata": {},
     "output_type": "display_data"
    }
   ],
   "source": [
    "fig, axes = plt.subplots(1, 2, figsize=(15, 5))\n",
    "sns.kdeplot(ax=axes[0], x=df['men'], shade=True, label='Male')\n",
    "sns.kdeplot(ax=axes[0], x=df['women'], shade=True, label='Female')\n",
    "axes[0].set_title(\"KDE plot\")\n",
    "axes[0].set_xlabel('Height')\n",
    "sns.boxplot(ax=axes[1], data=df)\n",
    "axes[1].set_title('Boxplot per gender')\n",
    "\n",
    "plt.show()"
   ]
  },
  {
   "cell_type": "markdown",
   "id": "b5a313d6",
   "metadata": {
    "heading_collapsed": true
   },
   "source": [
    "## Hypothesis\n",
    "\n",
    "$H_0$: The mean height of men and women are equal<br>\n",
    "$H_a$: The mean height of men and women are not equal"
   ]
  },
  {
   "cell_type": "markdown",
   "id": "2b447459",
   "metadata": {},
   "source": [
    "## Assumptions\n",
    "\n",
    "* Assumption 1: The data collected follows a continuous or ordinal scale\n",
    "* Assumption 2: The data (the difference for the matched-pairs) follows a normal distribution\n",
    "* Assumption 3: The data is collected from a representative, randomly selected portion of the total population.\n",
    "* Assumption 4: Homogeneous, or equal, variance exists when the standard deviations of samples are approximately equal (homogeneity of variance).\n",
    "\n",
    "Note, the assumptions are not strictly required. For example, it is possible to carry out the Mann-Whitney U test in Python if your data is not normally distributed. Another option is to transform the dependent variable using square root, log, or Box-Cox in Python."
   ]
  },
  {
   "cell_type": "markdown",
   "id": "dbe6d889",
   "metadata": {},
   "source": [
    "### Check Homogeneity of Variance Assumption"
   ]
  },
  {
   "cell_type": "markdown",
   "id": "c097010b",
   "metadata": {
    "heading_collapsed": true
   },
   "source": [
    "#### Levene's test\n",
    "Levene's test is commonly used to test Homogeneity of variance between two samples.\n",
    "\n",
    "$H_0$: The samples are from populations with equal variances.<br>\n",
    "$H_a$: The samples are not from populations with equal variances."
   ]
  },
  {
   "cell_type": "code",
   "execution_count": 11,
   "id": "840a5b15",
   "metadata": {
    "ExecuteTime": {
     "end_time": "2021-12-18T04:45:12.321166Z",
     "start_time": "2021-12-18T04:45:12.309199Z"
    },
    "hidden": true
   },
   "outputs": [
    {
     "name": "stdout",
     "output_type": "stream",
     "text": [
      "W statistic: 0.027, P-value: 0.873 FAIL TO REJECT NULL HYPOTHESIS\n"
     ]
    }
   ],
   "source": [
    "t_stat = stats.levene(df['men'], df['women'])[0]\n",
    "p_value = stats.levene(df['men'], df['women'])[1]\n",
    "if p_value < 0.05:\n",
    "    print('W statistic: {}, P-value: {} REJECT NULL HYPOTHESIS'\n",
    "          .format(round(t_stat, 3), round(p_value, 3)))\n",
    "else:\n",
    "    print('W statistic: {}, P-value: {} FAIL TO REJECT NULL HYPOTHESIS'\n",
    "          .format(round(t_stat, 3), round(p_value, 3)))"
   ]
  },
  {
   "cell_type": "markdown",
   "id": "15af39c7",
   "metadata": {},
   "source": [
    "### Check Normality Assumption\n",
    "\n",
    "There are several methods to check whether our data is normally distributed:\n",
    "* Jarque Bera test: Works properly in samples larger than 2000 observations\n",
    "* Kolmogorov-Smirnov test: Non-parametric\n",
    "* Anderson-Darling test: more powerful than K-S test since it considers all of the values in the data and not just the one that produces maximum distance\n",
    "* Shapiro-Wilk test: This test is reliable for samples of a thousand observations or fewer"
   ]
  },
  {
   "cell_type": "markdown",
   "id": "02b65148",
   "metadata": {},
   "source": [
    "#### Jarque Bera test\n",
    "Jarque-Bera is one of the normality tests or specifically a goodness of fit test of matching skewness and kurtosis to that of a normal distribution.\n",
    "\n",
    "$H_0$: Sample skewness and sample kurtosis are not significantly different from normal distribution<br>\n",
    "$H_a$: Sample skewness and sample kurtosis are significantly different from normal distribution"
   ]
  },
  {
   "cell_type": "code",
   "execution_count": 12,
   "id": "0f4de740",
   "metadata": {
    "ExecuteTime": {
     "end_time": "2021-12-18T04:45:21.419212Z",
     "start_time": "2021-12-18T04:45:21.403503Z"
    }
   },
   "outputs": [
    {
     "name": "stdout",
     "output_type": "stream",
     "text": [
      "male - (JB statistic: 0.579, P-value: 0.749) FAIL TO REJECT NULL HYPOTHESIS\n",
      "female - (JB statistic: 0.714, P-value: 0.7) FAIL TO REJECT NULL HYPOTHESIS\n"
     ]
    }
   ],
   "source": [
    "for name, group in zip(['male', 'female'], [df['men'], df['women']]):\n",
    "    t_stat = stats.jarque_bera(group)[0]\n",
    "    p_value = stats.jarque_bera(group)[1]\n",
    "    if p_value < 0.05: \n",
    "        print('{} - (JB statistic: {}, P-value: {}) REJECT NULL HYPOTHESIS'.format(name, round(t_stat, 3), round(p_value, 3)))\n",
    "    else: \n",
    "         print('{} - (JB statistic: {}, P-value: {}) FAIL TO REJECT NULL HYPOTHESIS'.format(name, round(t_stat, 3), round(p_value, 3)))"
   ]
  },
  {
   "cell_type": "markdown",
   "id": "61964098",
   "metadata": {},
   "source": [
    "#### Kolmogorov-Smirnov test\n",
    "One of the most frequently tests for normality is the Kolmogorov-Smirnov test (or K-S test). A major advantage compared to other tests is that Kolmogorov-Smirnov test is nonparametric, meaning that it is distribution-free.\n",
    "\n",
    "$H_0$: Both samples come from the same distribution<br>\n",
    "$H_a$: Both samples come from different distributions"
   ]
  },
  {
   "cell_type": "code",
   "execution_count": 14,
   "id": "d9a91aa6",
   "metadata": {
    "ExecuteTime": {
     "end_time": "2021-12-18T04:45:54.492553Z",
     "start_time": "2021-12-18T04:45:54.470921Z"
    }
   },
   "outputs": [
    {
     "name": "stdout",
     "output_type": "stream",
     "text": [
      "male - (K-S statistic: 1.0, P-value: 0.0) REJECT NULL HYPOTHESIS\n",
      "female - (K-S statistic: 1.0, P-value: 0.0) REJECT NULL HYPOTHESIS\n"
     ]
    }
   ],
   "source": [
    "for name, group in zip(['male', 'female'], [df['men'], df['women']]):\n",
    "    t_stat = stats.kstest(group, cdf='norm')[0]\n",
    "    p_value = stats.kstest(group, cdf='norm')[1]\n",
    "    if p_value < 0.05: \n",
    "        print('{} - (K-S statistic: {}, P-value: {}) REJECT NULL HYPOTHESIS'.format(name, round(t_stat, 3), round(p_value, 3)))\n",
    "    else: \n",
    "         print('{} - (K-S statistic: {}, P-value: {}) FAIL TO REJECT NULL HYPOTHESIS'.format(name, round(t_stat, 3), round(p_value, 3)))"
   ]
  },
  {
   "cell_type": "markdown",
   "id": "a25477f4",
   "metadata": {},
   "source": [
    "#### Anderson-Darling test\n",
    "Anderson-Darling test is a modification of Kolmogorov-Smirnov test. It tests whether a given sample of observations is drawn from a given probability distribution (in our case from normal distribution).\n",
    "\n",
    "$H_0$: The sample comes from the normal distribution<br>\n",
    "$H_a$: The sample does not come from the normal distribution"
   ]
  },
  {
   "cell_type": "code",
   "execution_count": 16,
   "id": "a252363a",
   "metadata": {
    "ExecuteTime": {
     "end_time": "2021-12-18T04:47:14.043949Z",
     "start_time": "2021-12-18T04:47:14.024618Z"
    }
   },
   "outputs": [
    {
     "name": "stdout",
     "output_type": "stream",
     "text": [
      "male - (A statistic: 0.215, P-value: 0.742) FAIL TO REJECT NULL HYPOTHESIS\n",
      "female - (A statistic: 0.288, P-value: 0.742) FAIL TO REJECT NULL HYPOTHESIS\n"
     ]
    }
   ],
   "source": [
    "for name, group in zip(['male', 'female'], [df['men'], df['women']]):\n",
    "    t_stat = stats.anderson(group, dist='norm')[0]\n",
    "    p_value = stats.anderson(group, dist='norm')[1][2]\n",
    "    if p_value < 0.05: \n",
    "        print('{} - (A statistic: {}, P-value: {}) REJECT NULL HYPOTHESIS'.format(name, round(t_stat, 3), round(p_value, 3)))\n",
    "    else: \n",
    "         print('{} - (A statistic: {}, P-value: {}) FAIL TO REJECT NULL HYPOTHESIS'.format(name, round(t_stat, 3), round(p_value, 3)))"
   ]
  },
  {
   "cell_type": "markdown",
   "id": "10f35184",
   "metadata": {},
   "source": [
    "#### Shapiro-Wilk test\n",
    "Anderson-Darling test is a modification of Kolmogorov-Smirnov test. It tests whether a given sample of observations is drawn from a given probability distribution (in our case from normal distribution).\n",
    "\n",
    "$H_0$: The distribution of the sample is not significantly different from a normal distribution<br>\n",
    "$H_a$: The distribution of the sample is significantly different from a normal distribution"
   ]
  },
  {
   "cell_type": "code",
   "execution_count": 17,
   "id": "5522e0b6",
   "metadata": {
    "ExecuteTime": {
     "end_time": "2021-12-18T04:47:30.906211Z",
     "start_time": "2021-12-18T04:47:30.893908Z"
    }
   },
   "outputs": [
    {
     "name": "stdout",
     "output_type": "stream",
     "text": [
      "male - (W statistic: 0.955, P-value: 0.776) FAIL TO REJECT NULL HYPOTHESIS\n",
      "female - (W statistic: 0.92, P-value: 0.468) FAIL TO REJECT NULL HYPOTHESIS\n"
     ]
    }
   ],
   "source": [
    "for name, group in zip(['male', 'female'], [df['men'], df['women']]):\n",
    "    t_stat = stats.shapiro(group)[0]\n",
    "    p_value = stats.shapiro(group)[1]\n",
    "    if p_value < 0.05: \n",
    "        print('{} - (W statistic: {}, P-value: {}) REJECT NULL HYPOTHESIS'.format(name, round(t_stat, 3), round(p_value, 3)))\n",
    "    else: \n",
    "         print('{} - (W statistic: {}, P-value: {}) FAIL TO REJECT NULL HYPOTHESIS'.format(name, round(t_stat, 3), round(p_value, 3)))"
   ]
  },
  {
   "cell_type": "markdown",
   "id": "cb286eaf",
   "metadata": {},
   "source": [
    "#### QQ plot + Histogram"
   ]
  },
  {
   "cell_type": "code",
   "execution_count": 19,
   "id": "831046c0",
   "metadata": {
    "ExecuteTime": {
     "end_time": "2021-12-18T04:47:57.797471Z",
     "start_time": "2021-12-18T04:47:57.476299Z"
    }
   },
   "outputs": [
    {
     "data": {
      "image/png": "[encoded data removed]",
      "text/plain": [
       "<Figure size 1080x360 with 2 Axes>"
      ]
     },
     "metadata": {},
     "output_type": "display_data"
    }
   ],
   "source": [
    "fig, axes = plt.subplots(1, 2, figsize=(15, 5))\n",
    "sm.qqplot(ax=axes[0], data=df['men'], line='45', fit=True);\n",
    "axes[0].set_title('Male QQ-plot')\n",
    "sm.qqplot(ax=axes[1], data=df['women'], line='45', fit=True);\n",
    "axes[1].set_title('Female QQ-plot')\n",
    "\n",
    "plt.show()"
   ]
  },
  {
   "cell_type": "code",
   "execution_count": 20,
   "id": "5341e564",
   "metadata": {
    "ExecuteTime": {
     "end_time": "2021-12-18T04:48:24.169853Z",
     "start_time": "2021-12-18T04:48:23.822287Z"
    }
   },
   "outputs": [
    {
     "data": {
      "image/png": "[encoded data removed]",
      "text/plain": [
       "<Figure size 1080x360 with 2 Axes>"
      ]
     },
     "metadata": {},
     "output_type": "display_data"
    }
   ],
   "source": [
    "fig, axes = plt.subplots(1, 2, figsize=(15, 5))\n",
    "sns.histplot(ax=axes[0], x=df['men'])\n",
    "axes[0].set_title('Male histogram')\n",
    "sns.histplot(ax=axes[1], x=df['women'])\n",
    "axes[1].set_title('Female histogram')\n",
    "plt.show()"
   ]
  },
  {
   "cell_type": "markdown",
   "id": "748c96f9",
   "metadata": {
    "heading_collapsed": true
   },
   "source": [
    "#### Conclusion"
   ]
  },
  {
   "cell_type": "code",
   "execution_count": 17,
   "id": "dfe5deda",
   "metadata": {
    "ExecuteTime": {
     "end_time": "2021-11-21T04:18:46.557672Z",
     "start_time": "2021-11-21T04:18:46.540702Z"
    },
    "hidden": true
   },
   "outputs": [
    {
     "data": {
      "text/html": [
       "<div>\n",
       "<style scoped>\n",
       "    .dataframe tbody tr th:only-of-type {\n",
       "        vertical-align: middle;\n",
       "    }\n",
       "\n",
       "    .dataframe tbody tr th {\n",
       "        vertical-align: top;\n",
       "    }\n",
       "\n",
       "    .dataframe thead th {\n",
       "        text-align: right;\n",
       "    }\n",
       "</style>\n",
       "<table border=\"1\" class=\"dataframe\">\n",
       "  <thead>\n",
       "    <tr style=\"text-align: right;\">\n",
       "      <th></th>\n",
       "      <th>test</th>\n",
       "      <th>Null Hypothesis (Normality)</th>\n",
       "    </tr>\n",
       "  </thead>\n",
       "  <tbody>\n",
       "    <tr>\n",
       "      <th>0</th>\n",
       "      <td>Jarque Bera test</td>\n",
       "      <td>FAIL TO REJECT</td>\n",
       "    </tr>\n",
       "    <tr>\n",
       "      <th>1</th>\n",
       "      <td>Kolmogorov-Smirnov test</td>\n",
       "      <td>REJECT</td>\n",
       "    </tr>\n",
       "    <tr>\n",
       "      <th>2</th>\n",
       "      <td>Anderson-Darling test</td>\n",
       "      <td>FAIL TO REJECT</td>\n",
       "    </tr>\n",
       "    <tr>\n",
       "      <th>3</th>\n",
       "      <td>Shapiro-Wilk test</td>\n",
       "      <td>FAIL TO REJECT</td>\n",
       "    </tr>\n",
       "  </tbody>\n",
       "</table>\n",
       "</div>"
      ],
      "text/plain": [
       "                      test Null Hypothesis (Normality)\n",
       "0         Jarque Bera test              FAIL TO REJECT\n",
       "1  Kolmogorov-Smirnov test                      REJECT\n",
       "2    Anderson-Darling test              FAIL TO REJECT\n",
       "3        Shapiro-Wilk test              FAIL TO REJECT"
      ]
     },
     "execution_count": 17,
     "metadata": {},
     "output_type": "execute_result"
    }
   ],
   "source": [
    "data = [['Jarque Bera test', 'FAIL TO REJECT'],\n",
    "        ['Kolmogorov-Smirnov test', 'REJECT'],\n",
    "        ['Anderson-Darling test', 'FAIL TO REJECT'],\n",
    "        ['Shapiro-Wilk test', 'FAIL TO REJECT']]\n",
    "\n",
    "pd.DataFrame(data, columns=['test', 'Null Hypothesis (Normality)'])"
   ]
  },
  {
   "cell_type": "markdown",
   "id": "d8c01fb6",
   "metadata": {
    "hidden": true
   },
   "source": [
    "The data does follow a normal distribution!"
   ]
  },
  {
   "cell_type": "markdown",
   "id": "f070e968",
   "metadata": {},
   "source": [
    "## T-test"
   ]
  },
  {
   "cell_type": "code",
   "execution_count": 22,
   "id": "edcfeea5",
   "metadata": {
    "ExecuteTime": {
     "end_time": "2021-12-18T04:49:20.854829Z",
     "start_time": "2021-12-18T04:49:20.822774Z"
    }
   },
   "outputs": [
    {
     "data": {
      "text/html": [
       "<div>\n",
       "<style scoped>\n",
       "    .dataframe tbody tr th:only-of-type {\n",
       "        vertical-align: middle;\n",
       "    }\n",
       "\n",
       "    .dataframe tbody tr th {\n",
       "        vertical-align: top;\n",
       "    }\n",
       "\n",
       "    .dataframe thead th {\n",
       "        text-align: right;\n",
       "    }\n",
       "</style>\n",
       "<table border=\"1\" class=\"dataframe\">\n",
       "  <thead>\n",
       "    <tr style=\"text-align: right;\">\n",
       "      <th></th>\n",
       "      <th>T</th>\n",
       "      <th>dof</th>\n",
       "      <th>alternative</th>\n",
       "      <th>p-val</th>\n",
       "      <th>CI95%</th>\n",
       "      <th>cohen-d</th>\n",
       "      <th>BF10</th>\n",
       "      <th>power</th>\n",
       "    </tr>\n",
       "  </thead>\n",
       "  <tbody>\n",
       "    <tr>\n",
       "      <th>T-test</th>\n",
       "      <td>2.765445</td>\n",
       "      <td>12</td>\n",
       "      <td>two-sided</td>\n",
       "      <td>0.017106</td>\n",
       "      <td>[1.87, 15.76]</td>\n",
       "      <td>1.478192</td>\n",
       "      <td>3.601</td>\n",
       "      <td>0.718909</td>\n",
       "    </tr>\n",
       "  </tbody>\n",
       "</table>\n",
       "</div>"
      ],
      "text/plain": [
       "               T  dof alternative     p-val          CI95%   cohen-d   BF10  \\\n",
       "T-test  2.765445   12   two-sided  0.017106  [1.87, 15.76]  1.478192  3.601   \n",
       "\n",
       "           power  \n",
       "T-test  0.718909  "
      ]
     },
     "execution_count": 22,
     "metadata": {},
     "output_type": "execute_result"
    }
   ],
   "source": [
    "result = pg.ttest(df['men'], df['women'], correction=False)\n",
    "result"
   ]
  },
  {
   "cell_type": "markdown",
   "id": "9d9f977b",
   "metadata": {},
   "source": [
    "#### P-value\n",
    "If the null hypothesis is true (there is no difference in height), there is a 1.71% chance of seeing a difference of 8.81cm or more by chance between samples"
   ]
  },
  {
   "cell_type": "markdown",
   "id": "ed2ab18a",
   "metadata": {},
   "source": [
    "#### T statistic\n",
    "\n",
    "The T statistic is a ratio between the difference between two groups and the difference within the groups. The larger the T statistic, the more difference there is between groups. The smaller the T statistic, the more similarity there is between groups.<br>\n",
    "\n",
    "$$t = \\frac{\\overline{x_1} - \\overline{x_2}}{\\sqrt{\\frac{s_p^2}{n_1} + \\frac{s_p^2}{n_2}}} = \\frac{\\overline{x_1} - \\overline{x_2}}{\\sqrt{SEM_1+ SEM_2}}$$\n",
    "\n",
    "* *$\\overline{x}$ are the means of each sample* <br>\n",
    "* *$s_p$ is the pooled variance* <br>\n",
    "* *SEM is the standard error of the mean*<br>\n",
    "* *n is the sample size* <br>"
   ]
  },
  {
   "cell_type": "code",
   "execution_count": 28,
   "id": "b1eb31db",
   "metadata": {
    "ExecuteTime": {
     "end_time": "2021-12-18T04:57:30.773891Z",
     "start_time": "2021-12-18T04:57:30.757904Z"
    }
   },
   "outputs": [],
   "source": [
    "SEM_male = stats.sem(df['men'])\n",
    "SEM_female = stats.sem(df['women'])\n",
    "\n",
    "t_score = (np.mean(df['men']) - np.mean(df['women'])) / np.sqrt(SEM_male**2 + SEM_female**2)"
   ]
  },
  {
   "cell_type": "code",
   "execution_count": 27,
   "id": "111dc66a",
   "metadata": {
    "ExecuteTime": {
     "end_time": "2021-12-18T04:56:29.471785Z",
     "start_time": "2021-12-18T04:56:29.238587Z"
    }
   },
   "outputs": [
    {
     "data": {
      "image/png": "[encoded data removed]",
      "text/plain": [
       "<Figure size 432x288 with 1 Axes>"
      ]
     },
     "metadata": {},
     "output_type": "display_data"
    },
    {
     "name": "stdout",
     "output_type": "stream",
     "text": [
      "Critical T-score: +-2.571 and T-score: 2.765\n"
     ]
    }
   ],
   "source": [
    "## Setup      \n",
    "dof = len(df)-2       # Degrees of freedom\n",
    "alpha = 0.05    # Significence level\n",
    "tails = 2      # Number of tails \n",
    "\n",
    "## Calculate critical t\n",
    "critical_t = stats.t.ppf(q=1-(alpha/2),df=dof)\n",
    "\n",
    "plt.figure()\n",
    "xs = np.linspace(-10,10,1000)\n",
    "plt.plot(xs, stats.t.pdf(xs,dof), 'k', label=\"T-Distribution PDF\")\n",
    "\n",
    "## Plot some vertical lines representing critical t-score cutoff\n",
    "plt.axvline(critical_t, ymin=0.045, ymax=0.95, color='red', label='Critical T-scores')\n",
    "if tails == 2: \n",
    "    plt.axvline(-critical_t, ymin=0.045, ymax=0.95, color='red')\n",
    "plt.axvline(t_score, ymin=0.045, ymax=0.95, color='blue', label='T-score')\n",
    "plt.legend()\n",
    "plt.show()\n",
    "\n",
    "print('Critical T-score: +-{} and T-score: {}'.format(round(critical_t,3), round(t_score, 3)))"
   ]
  },
  {
   "cell_type": "markdown",
   "id": "f1193872",
   "metadata": {},
   "source": [
    "#### Confidence Interval\n",
    "\n",
    "If we take 100 random samples from the population, we would expect 95% of the samples to have a difference in the range: [1.87, 15.76]"
   ]
  },
  {
   "cell_type": "markdown",
   "id": "73d391e9",
   "metadata": {},
   "source": [
    "#### Cohen's D"
   ]
  },
  {
   "cell_type": "markdown",
   "id": "49b49db8",
   "metadata": {},
   "source": [
    "Also referred as Standardized Mean Difference, Cohen's D is one of the most common ways to measure effect size (how large an effect is). For example, medication A has a larger effect than medication B. While a p-value can tell you if there is an effect, it won't tell you how large that effect is.\n",
    "Cohen (1988) suggested that d=0.2 should be considered a 'small' effect size, 0.5 is a 'medium' effect size, and that 0.8 is a 'large' effect size. This means that if two groups' means don't differ by 0.2 standard deviations or more, the difference is trivial, even if it is statistically significant."
   ]
  },
  {
   "cell_type": "markdown",
   "id": "1c0c4e2f",
   "metadata": {},
   "source": [
    "#### BF10\n",
    "\n",
    "30-100: Very strong evidence for $H_a$<br>\n",
    "10-30: Strong evidence for $H_a$<br>\n",
    "**3-10: Moderate evidence for $H_a$**<br>\n",
    "1-3: Little evidence for $H_a$<br>\n",
    "1: No evidence<br>\n",
    "1-3: Little evidence for $H_0$<br>\n",
    "3-10: Moderate evidence for $H_0$<br>\n",
    "10-30: Strong evidence for $H_0$<br>\n",
    "30-100: Very strong evidence for $H_0$<br>"
   ]
  },
  {
   "cell_type": "markdown",
   "id": "4989db9f",
   "metadata": {},
   "source": [
    "#### Power\n",
    "\n",
    "The probability of rejecting the Null Hypothesis when it is false (correct decision)."
   ]
  },
  {
   "cell_type": "markdown",
   "id": "e5eeaad1",
   "metadata": {},
   "source": [
    "## Conclusion\n",
    "\n",
    "There was a significant difference in height for men (M = 179.87, SD = 6.21) and women (M = 171.05, SD = 5.69); t(12) = 2.77, p < 0.05"
   ]
  }
 ],
 "metadata": {
  "kernelspec": {
   "display_name": "Python 3 (ipykernel)",
   "language": "python",
   "name": "python3"
  },
  "language_info": {
   "codemirror_mode": {
    "name": "ipython",
    "version": 3
   },
   "file_extension": ".py",
   "mimetype": "text/x-python",
   "name": "python",
   "nbconvert_exporter": "python",
   "pygments_lexer": "ipython3",
   "version": "3.9.7"
  },
  "toc": {
   "base_numbering": 1,
   "nav_menu": {},
   "number_sections": true,
   "sideBar": true,
   "skip_h1_title": false,
   "title_cell": "Table of Contents",
   "title_sidebar": "Contents",
   "toc_cell": false,
   "toc_position": {
    "height": "calc(100% - 180px)",
    "left": "10px",
    "top": "150px",
    "width": "203px"
   },
   "toc_section_display": true,
   "toc_window_display": false
  },
  "varInspector": {
   "cols": {
    "lenName": 16,
    "lenType": 16,
    "lenVar": 40
   },
   "kernels_config": {
    "python": {
     "delete_cmd_postfix": "",
     "delete_cmd_prefix": "del ",
     "library": "var_list.py",
     "varRefreshCmd": "print(var_dic_list())"
    },
    "r": {
     "delete_cmd_postfix": ") ",
     "delete_cmd_prefix": "rm(",
     "library": "var_list.r",
     "varRefreshCmd": "cat(var_dic_list()) "
    }
   },
   "types_to_exclude": [
    "module",
    "function",
    "builtin_function_or_method",
    "instance",
    "_Feature"
   ],
   "window_display": false
  }
 },
 "nbformat": 4,
 "nbformat_minor": 5
}
