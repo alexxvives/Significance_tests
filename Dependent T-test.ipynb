{
 "cells": [
  {
   "cell_type": "markdown",
   "id": "af4f8fd4",
   "metadata": {},
   "source": [
    "# Paired/Dependent T-test"
   ]
  },
  {
   "cell_type": "markdown",
   "id": "6ec0ae2d",
   "metadata": {},
   "source": [
    "**Definition**<br>\n",
    "A dependent t-test is a parametric approach used to compare means between matched groups.<br> \n",
    "\n",
    "The matched groups can consist on:\n",
    "* The same person under different treatments\n",
    "* The same person measured before and after a treatment\n",
    "* Match individuals in different treatment groups based on gender, age, etc."
   ]
  },
  {
   "cell_type": "markdown",
   "id": "bbab43b1",
   "metadata": {},
   "source": [
    "## Data Import"
   ]
  },
  {
   "cell_type": "code",
   "execution_count": 1,
   "id": "194452c5",
   "metadata": {
    "ExecuteTime": {
     "end_time": "2021-12-18T01:33:20.069410Z",
     "start_time": "2021-12-18T01:32:13.947111Z"
    }
   },
   "outputs": [],
   "source": [
    "import numpy as np\n",
    "import pandas as pd\n",
    "import matplotlib.pyplot as plt\n",
    "import seaborn as sns\n",
    "import numpy.random as rnd\n",
    "from random import sample\n",
    "import statsmodels.api as sm\n",
    "import scipy.stats as stats\n",
    "import pingouin as pg\n",
    "\n",
    "import warnings\n",
    "warnings.filterwarnings(\"ignore\")\n",
    "\n",
    "sns.set_style('darkgrid')"
   ]
  },
  {
   "cell_type": "code",
   "execution_count": 10,
   "id": "439d1de9",
   "metadata": {
    "ExecuteTime": {
     "end_time": "2021-12-18T02:01:49.084862Z",
     "start_time": "2021-12-18T02:01:48.927588Z"
    }
   },
   "outputs": [
    {
     "data": {
      "text/html": [
       "<div>\n",
       "<style scoped>\n",
       "    .dataframe tbody tr th:only-of-type {\n",
       "        vertical-align: middle;\n",
       "    }\n",
       "\n",
       "    .dataframe tbody tr th {\n",
       "        vertical-align: top;\n",
       "    }\n",
       "\n",
       "    .dataframe thead th {\n",
       "        text-align: right;\n",
       "    }\n",
       "</style>\n",
       "<table border=\"1\" class=\"dataframe\">\n",
       "  <thead>\n",
       "    <tr style=\"text-align: right;\">\n",
       "      <th></th>\n",
       "      <th>Before</th>\n",
       "      <th>After</th>\n",
       "    </tr>\n",
       "    <tr>\n",
       "      <th>Pair</th>\n",
       "      <th></th>\n",
       "      <th></th>\n",
       "    </tr>\n",
       "  </thead>\n",
       "  <tbody>\n",
       "    <tr>\n",
       "      <th>1</th>\n",
       "      <td>135</td>\n",
       "      <td>127</td>\n",
       "    </tr>\n",
       "    <tr>\n",
       "      <th>2</th>\n",
       "      <td>142</td>\n",
       "      <td>145</td>\n",
       "    </tr>\n",
       "    <tr>\n",
       "      <th>3</th>\n",
       "      <td>137</td>\n",
       "      <td>131</td>\n",
       "    </tr>\n",
       "    <tr>\n",
       "      <th>4</th>\n",
       "      <td>122</td>\n",
       "      <td>125</td>\n",
       "    </tr>\n",
       "    <tr>\n",
       "      <th>5</th>\n",
       "      <td>147</td>\n",
       "      <td>132</td>\n",
       "    </tr>\n",
       "  </tbody>\n",
       "</table>\n",
       "</div>"
      ],
      "text/plain": [
       "      Before  After\n",
       "Pair               \n",
       "1        135    127\n",
       "2        142    145\n",
       "3        137    131\n",
       "4        122    125\n",
       "5        147    132"
      ]
     },
     "execution_count": 10,
     "metadata": {},
     "output_type": "execute_result"
    }
   ],
   "source": [
    "# Dataset of the change in Systolic Blood Pressure (SBP) before and after the use of a drug\n",
    "link = 'https://raw.githubusercontent.com/alexxvives/Significance_tests/main/Data/dependent_Ttest_data.csv'\n",
    "df = pd.read_csv(link, index_col=0)\n",
    "\n",
    "df.head()"
   ]
  },
  {
   "cell_type": "code",
   "execution_count": 12,
   "id": "685799a0",
   "metadata": {
    "ExecuteTime": {
     "end_time": "2021-12-18T02:02:12.756326Z",
     "start_time": "2021-12-18T02:02:12.731478Z"
    }
   },
   "outputs": [
    {
     "data": {
      "text/html": [
       "<div>\n",
       "<style scoped>\n",
       "    .dataframe tbody tr th:only-of-type {\n",
       "        vertical-align: middle;\n",
       "    }\n",
       "\n",
       "    .dataframe tbody tr th {\n",
       "        vertical-align: top;\n",
       "    }\n",
       "\n",
       "    .dataframe thead th {\n",
       "        text-align: right;\n",
       "    }\n",
       "</style>\n",
       "<table border=\"1\" class=\"dataframe\">\n",
       "  <thead>\n",
       "    <tr style=\"text-align: right;\">\n",
       "      <th></th>\n",
       "      <th>count</th>\n",
       "      <th>mean</th>\n",
       "      <th>std</th>\n",
       "      <th>min</th>\n",
       "      <th>25%</th>\n",
       "      <th>50%</th>\n",
       "      <th>75%</th>\n",
       "      <th>max</th>\n",
       "    </tr>\n",
       "  </thead>\n",
       "  <tbody>\n",
       "    <tr>\n",
       "      <th>Before</th>\n",
       "      <td>11.0</td>\n",
       "      <td>137.454545</td>\n",
       "      <td>11.509680</td>\n",
       "      <td>117.0</td>\n",
       "      <td>132.0</td>\n",
       "      <td>137.0</td>\n",
       "      <td>145.0</td>\n",
       "      <td>154.0</td>\n",
       "    </tr>\n",
       "    <tr>\n",
       "      <th>After</th>\n",
       "      <td>11.0</td>\n",
       "      <td>131.272727</td>\n",
       "      <td>9.111431</td>\n",
       "      <td>119.0</td>\n",
       "      <td>125.0</td>\n",
       "      <td>131.0</td>\n",
       "      <td>135.5</td>\n",
       "      <td>147.0</td>\n",
       "    </tr>\n",
       "  </tbody>\n",
       "</table>\n",
       "</div>"
      ],
      "text/plain": [
       "        count        mean        std    min    25%    50%    75%    max\n",
       "Before   11.0  137.454545  11.509680  117.0  132.0  137.0  145.0  154.0\n",
       "After    11.0  131.272727   9.111431  119.0  125.0  131.0  135.5  147.0"
      ]
     },
     "execution_count": 12,
     "metadata": {},
     "output_type": "execute_result"
    }
   ],
   "source": [
    "df.describe().T"
   ]
  },
  {
   "cell_type": "code",
   "execution_count": 31,
   "id": "1a5c1ef3",
   "metadata": {
    "ExecuteTime": {
     "end_time": "2021-12-18T02:13:10.119740Z",
     "start_time": "2021-12-18T02:13:09.800747Z"
    }
   },
   "outputs": [
    {
     "data": {
      "image/png": "[encoded data removed]",
      "text/plain": [
       "<Figure size 1080x360 with 2 Axes>"
      ]
     },
     "metadata": {},
     "output_type": "display_data"
    }
   ],
   "source": [
    "fig, axes = plt.subplots(1, 2, figsize=(15, 5))\n",
    "sns.kdeplot(ax=axes[0], x=df['Before'], shade=True, label='Before')\n",
    "sns.kdeplot(ax=axes[0], x=df['After'], shade=True, label='After')\n",
    "axes[0].set_title(\"KDE plot\")\n",
    "axes[0].set_xlabel('Systolic blood pressure')\n",
    "axes[0].legend()\n",
    "sns.boxplot(ax=axes[1], data=df)\n",
    "axes[1].set_title('Boxplot per test')\n",
    "\n",
    "plt.show()"
   ]
  },
  {
   "cell_type": "markdown",
   "id": "b5a313d6",
   "metadata": {
    "heading_collapsed": true
   },
   "source": [
    "## Hypothesis\n",
    "\n",
    "$H_0$: The difference in SBP before and after taking the drug is equal to zero<br>\n",
    "$H_a$: The difference in SBP before and after taking the drug is not equal to zero"
   ]
  },
  {
   "cell_type": "markdown",
   "id": "2b447459",
   "metadata": {},
   "source": [
    "## Assumptions\n",
    "\n",
    "* Assumption 1: The data collected follows a continuous or ordinal scale\n",
    "\n",
    "* Assumption 2: The data (the difference for the matched-pairs) follows a normal distribution\n",
    "* Assumption 3: The data is collected from a representative, randomly selected portion of the total population.\n",
    "* Assumption 4: Homogeneous, or equal, variance exists when the standard deviations of samples are approximately equal (homogeneity of variance).\n",
    "\n",
    "*Note, the assumptions are not strictly required. For example, it is possible to carry out the Mann-Whitney U test in Python if your data is not normally distributed. Another option is to transform the dependent variable using square root, log, or Box-Cox in Python.*"
   ]
  },
  {
   "cell_type": "code",
   "execution_count": null,
   "id": "d5c3e56a",
   "metadata": {},
   "outputs": [],
   "source": [
    "diff = df['After'] - df['Before']"
   ]
  },
  {
   "cell_type": "markdown",
   "id": "8cfc3cbe",
   "metadata": {
    "ExecuteTime": {
     "end_time": "2021-12-18T04:31:58.503892Z",
     "start_time": "2021-12-18T04:31:58.489735Z"
    },
    "heading_collapsed": true
   },
   "source": [
    "### Check Homogeneity of Variance Assumption"
   ]
  },
  {
   "cell_type": "markdown",
   "id": "5be02a80",
   "metadata": {
    "hidden": true
   },
   "source": [
    "#### Levene's test\n",
    "Levene's test is commonly used to test Homogeneity of variance between two samples.\n",
    "\n",
    "$H_0$: The samples are from populations with equal variances.<br>\n",
    "$H_a$: The samples are not from populations with equal variances."
   ]
  },
  {
   "cell_type": "code",
   "execution_count": 104,
   "id": "339fe8d9",
   "metadata": {
    "ExecuteTime": {
     "end_time": "2021-12-18T04:43:36.153049Z",
     "start_time": "2021-12-18T04:43:36.131322Z"
    },
    "hidden": true
   },
   "outputs": [
    {
     "name": "stdout",
     "output_type": "stream",
     "text": [
      "(W statistic: 0.604, P-value: 0.446) FAIL TO REJECT NULL HYPOTHESIS\n"
     ]
    }
   ],
   "source": [
    "t_stat = stats.levene(df['Before'], df['After'])[0]\n",
    "p_value = stats.levene(df['Before'], df['After'])[1]\n",
    "if p_value < 0.05: \n",
    "    print('(W statistic: {}, P-value: {}) REJECT NULL HYPOTHESIS'.format(round(t_stat, 3), round(p_value, 3)))\n",
    "else: \n",
    "     print('(W statistic: {}, P-value: {}) FAIL TO REJECT NULL HYPOTHESIS'.format(round(t_stat, 3), round(p_value, 3)))"
   ]
  },
  {
   "cell_type": "markdown",
   "id": "15af39c7",
   "metadata": {
    "heading_collapsed": true
   },
   "source": [
    "### Check Normality Assumption\n",
    "\n",
    "There are several methods to check whether our data is normally distributed:\n",
    "* Jarque Bera test: Works properly in samples larger than 2000 observations\n",
    "* Kolmogorov-Smirnov test: Non-parametric\n",
    "* Anderson-Darling test: more powerful than K-S test since it considers all of the values in the data and not just the one that produces maximum distance\n",
    "* Shapiro-Wilk test: This test is reliable for samples of a thousand observations or fewer"
   ]
  },
  {
   "cell_type": "markdown",
   "id": "02b65148",
   "metadata": {
    "heading_collapsed": true,
    "hidden": true
   },
   "source": [
    "#### Jarque Bera test\n",
    "Jarque-Bera is one of the normality tests or specifically a goodness of fit test of matching skewness and kurtosis to that of a normal distribution.\n",
    "\n",
    "$H_0$: Sample skewness and sample kurtosis are not significantly different from normal distribution<br>\n",
    "$H_a$: Sample skewness and sample kurtosis are significantly different from normal distribution"
   ]
  },
  {
   "cell_type": "code",
   "execution_count": 33,
   "id": "0f4de740",
   "metadata": {
    "ExecuteTime": {
     "end_time": "2021-12-18T02:15:43.601182Z",
     "start_time": "2021-12-18T02:15:43.589185Z"
    },
    "hidden": true
   },
   "outputs": [
    {
     "name": "stdout",
     "output_type": "stream",
     "text": [
      "(JB statistic: 0.216, P-value: 0.898) FAIL TO REJECT NULL HYPOTHESIS\n"
     ]
    }
   ],
   "source": [
    "JB_flag = 0\n",
    "t_stat = stats.jarque_bera(diff)[0]\n",
    "p_value = stats.jarque_bera(diff)[1]\n",
    "if p_value < 0.05: \n",
    "    print('(JB statistic: {}, P-value: {}) REJECT NULL HYPOTHESIS'.format(round(t_stat, 3), round(p_value, 3)))\n",
    "    JB_flag = 1\n",
    "else: \n",
    "     print('(JB statistic: {}, P-value: {}) FAIL TO REJECT NULL HYPOTHESIS'.format(round(t_stat, 3), round(p_value, 3)))"
   ]
  },
  {
   "cell_type": "markdown",
   "id": "61964098",
   "metadata": {
    "hidden": true
   },
   "source": [
    "#### Kolmogorov-Smirnov test\n",
    "One of the most frequently tests for normality is the Kolmogorov-Smirnov test (or K-S test). A major advantage compared to other tests is that Kolmogorov-Smirnov test is nonparametric, meaning that it is distribution-free.\n",
    "\n",
    "$H_0$: Both samples come from the same distribution<br>\n",
    "$H_a$: Both samples come from different distributions"
   ]
  },
  {
   "cell_type": "code",
   "execution_count": 42,
   "id": "d9a91aa6",
   "metadata": {
    "ExecuteTime": {
     "end_time": "2021-12-18T02:18:22.847040Z",
     "start_time": "2021-12-18T02:18:22.824102Z"
    },
    "hidden": true
   },
   "outputs": [
    {
     "name": "stdout",
     "output_type": "stream",
     "text": [
      "(K-S statistic: 0.727, P-value: 0.0) REJECT NULL HYPOTHESIS\n"
     ]
    }
   ],
   "source": [
    "KS_flag = 0\n",
    "diff2 = np.random.normal(0, 1, 1000)\n",
    "t_stat = stats.kstest(diff, cdf='norm')[0]\n",
    "p_value = stats.kstest(diff, cdf='norm')[1]\n",
    "if p_value < 0.05:\n",
    "    print('(K-S statistic: {}, P-value: {}) REJECT NULL HYPOTHESIS'.format(round(t_stat, 3), round(p_value, 3)))\n",
    "    KS_flag = 1\n",
    "else:\n",
    "    print('(K-S statistic: {}, P-value: {}) FAIL TO REJECT NULL HYPOTHESIS'.format(round(t_stat, 3), round(p_value, 3)))"
   ]
  },
  {
   "cell_type": "markdown",
   "id": "a25477f4",
   "metadata": {
    "hidden": true
   },
   "source": [
    "#### Anderson-Darling test\n",
    "Anderson-Darling test is a modification of Kolmogorov-Smirnov test. It tests whether a given sample of observations is drawn from a given probability distribution (in our case from normal distribution).\n",
    "\n",
    "$H_0$: The sample comes from the normal distribution<br>\n",
    "$H_a$: The sample does not come from the normal distribution"
   ]
  },
  {
   "cell_type": "code",
   "execution_count": 35,
   "id": "a252363a",
   "metadata": {
    "ExecuteTime": {
     "end_time": "2021-12-18T02:16:07.833066Z",
     "start_time": "2021-12-18T02:16:07.822126Z"
    },
    "hidden": true
   },
   "outputs": [
    {
     "name": "stdout",
     "output_type": "stream",
     "text": [
      "(A statistic: 0.162, P-value: 0.68) FAIL TO REJECT NULL HYPOTHESIS\n"
     ]
    }
   ],
   "source": [
    "A_flag = 0\n",
    "t_stat = stats.anderson(diff, dist='norm')[0]\n",
    "p_value = stats.anderson(diff, dist='norm')[1][2]\n",
    "if p_value < 0.05:\n",
    "    print(' (A statistic: {}, P-value: {}) REJECT NULL HYPOTHESIS'.format(round(t_stat, 3), round(p_value, 3)))\n",
    "    A_flag = 1\n",
    "else:\n",
    "    print('(A statistic: {}, P-value: {}) FAIL TO REJECT NULL HYPOTHESIS'.format(round(t_stat, 3), round(p_value, 3)))"
   ]
  },
  {
   "cell_type": "markdown",
   "id": "10f35184",
   "metadata": {
    "hidden": true
   },
   "source": [
    "#### Shapiro-Wilk test\n",
    "Anderson-Darling test is a modification of Kolmogorov-Smirnov test. It tests whether a given sample of observations is drawn from a given probability distribution (in our case from normal distribution).\n",
    "\n",
    "$H_0$: The distribution of the sample is not significantly different from a normal distribution<br>\n",
    "$H_a$: The distribution of the sample is significantly different from a normal distribution"
   ]
  },
  {
   "cell_type": "code",
   "execution_count": 36,
   "id": "5522e0b6",
   "metadata": {
    "ExecuteTime": {
     "end_time": "2021-12-18T02:16:14.788119Z",
     "start_time": "2021-12-18T02:16:14.770141Z"
    },
    "hidden": true
   },
   "outputs": [
    {
     "name": "stdout",
     "output_type": "stream",
     "text": [
      "(W statistic: 0.981, P-value: 0.971) FAIL TO REJECT NULL HYPOTHESIS\n"
     ]
    }
   ],
   "source": [
    "W_flag = 0\n",
    "t_stat = stats.shapiro(diff)[0]\n",
    "p_value = stats.shapiro(diff)[1]\n",
    "if p_value < 0.05:\n",
    "    print('(W statistic: {}, P-value: {}) REJECT NULL HYPOTHESIS'.format(round(t_stat, 3), round(p_value, 3)))\n",
    "    W_flag = 1\n",
    "else:\n",
    "    print('(W statistic: {}, P-value: {}) FAIL TO REJECT NULL HYPOTHESIS'.format(round(t_stat, 3), round(p_value, 3)))"
   ]
  },
  {
   "cell_type": "markdown",
   "id": "cb286eaf",
   "metadata": {
    "hidden": true
   },
   "source": [
    "#### QQ plot + Histogram"
   ]
  },
  {
   "cell_type": "code",
   "execution_count": 40,
   "id": "831046c0",
   "metadata": {
    "ExecuteTime": {
     "end_time": "2021-12-18T02:17:25.806629Z",
     "start_time": "2021-12-18T02:17:25.631101Z"
    },
    "hidden": true
   },
   "outputs": [
    {
     "data": {
      "image/png": "[encoded data removed]",
      "text/plain": [
       "<Figure size 432x288 with 1 Axes>"
      ]
     },
     "metadata": {},
     "output_type": "display_data"
    }
   ],
   "source": [
    "sm.qqplot(data=diff, line='45', fit=True);\n",
    "plt.show()"
   ]
  },
  {
   "cell_type": "code",
   "execution_count": 46,
   "id": "5341e564",
   "metadata": {
    "ExecuteTime": {
     "end_time": "2021-12-18T02:20:15.559523Z",
     "start_time": "2021-12-18T02:20:15.379976Z"
    },
    "hidden": true
   },
   "outputs": [
    {
     "data": {
      "image/png": "[encoded data removed]",
      "text/plain": [
       "<Figure size 432x288 with 1 Axes>"
      ]
     },
     "metadata": {},
     "output_type": "display_data"
    }
   ],
   "source": [
    "sns.histplot(diff)\n",
    "plt.title('Difference in SBP')\n",
    "plt.show()"
   ]
  },
  {
   "cell_type": "markdown",
   "id": "748c96f9",
   "metadata": {
    "hidden": true
   },
   "source": [
    "#### Conclusion"
   ]
  },
  {
   "cell_type": "code",
   "execution_count": 47,
   "id": "dfe5deda",
   "metadata": {
    "ExecuteTime": {
     "end_time": "2021-12-18T02:20:20.664246Z",
     "start_time": "2021-12-18T02:20:20.645385Z"
    },
    "hidden": true
   },
   "outputs": [
    {
     "data": {
      "text/html": [
       "<div>\n",
       "<style scoped>\n",
       "    .dataframe tbody tr th:only-of-type {\n",
       "        vertical-align: middle;\n",
       "    }\n",
       "\n",
       "    .dataframe tbody tr th {\n",
       "        vertical-align: top;\n",
       "    }\n",
       "\n",
       "    .dataframe thead th {\n",
       "        text-align: right;\n",
       "    }\n",
       "</style>\n",
       "<table border=\"1\" class=\"dataframe\">\n",
       "  <thead>\n",
       "    <tr style=\"text-align: right;\">\n",
       "      <th></th>\n",
       "      <th>Null Hypothesis (Normality)</th>\n",
       "    </tr>\n",
       "  </thead>\n",
       "  <tbody>\n",
       "    <tr>\n",
       "      <th>Jarque Bera test</th>\n",
       "      <td>FAIL TO REJECT</td>\n",
       "    </tr>\n",
       "    <tr>\n",
       "      <th>Kolmogorov-Smirnov test</th>\n",
       "      <td>REJECT</td>\n",
       "    </tr>\n",
       "    <tr>\n",
       "      <th>Anderson-Darling test</th>\n",
       "      <td>FAIL TO REJECT</td>\n",
       "    </tr>\n",
       "    <tr>\n",
       "      <th>Shapiro-Wilk test</th>\n",
       "      <td>FAIL TO REJECT</td>\n",
       "    </tr>\n",
       "  </tbody>\n",
       "</table>\n",
       "</div>"
      ],
      "text/plain": [
       "                        Null Hypothesis (Normality)\n",
       "Jarque Bera test                     FAIL TO REJECT\n",
       "Kolmogorov-Smirnov test                      REJECT\n",
       "Anderson-Darling test                FAIL TO REJECT\n",
       "Shapiro-Wilk test                    FAIL TO REJECT"
      ]
     },
     "execution_count": 47,
     "metadata": {},
     "output_type": "execute_result"
    }
   ],
   "source": [
    "tests_dict = {}\n",
    "\n",
    "for test in ['Jarque Bera test', 'Kolmogorov-Smirnov test', 'Anderson-Darling test', 'Shapiro-Wilk test']:\n",
    "    if test == 'Jarque Bera test':\n",
    "        if JB_flag == 1: tests_dict[test] = 'REJECT'\n",
    "        else: tests_dict[test] = 'FAIL TO REJECT'\n",
    "        \n",
    "    if test == 'Kolmogorov-Smirnov test':\n",
    "        if KS_flag == 1: tests_dict[test] = 'REJECT'\n",
    "        else: tests_dict[test] = 'FAIL TO REJECT' \n",
    "        \n",
    "    if test == 'Anderson-Darling test':\n",
    "        if A_flag == 1: tests_dict[test] = 'REJECT'\n",
    "        else: tests_dict[test] = 'FAIL TO REJECT'\n",
    "        \n",
    "    if test == 'Shapiro-Wilk test':\n",
    "        if W_flag == 1: tests_dict[test] = 'REJECT'\n",
    "        else: tests_dict[test] = 'FAIL TO REJECT'\n",
    "\n",
    "pd.DataFrame.from_dict(tests_dict, orient='index', columns=['Null Hypothesis (Normality)'])"
   ]
  },
  {
   "cell_type": "markdown",
   "id": "d8c01fb6",
   "metadata": {
    "hidden": true
   },
   "source": [
    "The data does follow a normal distribution!"
   ]
  },
  {
   "cell_type": "markdown",
   "id": "f070e968",
   "metadata": {},
   "source": [
    "## T-test"
   ]
  },
  {
   "cell_type": "code",
   "execution_count": 91,
   "id": "edcfeea5",
   "metadata": {
    "ExecuteTime": {
     "end_time": "2021-12-18T02:37:17.191152Z",
     "start_time": "2021-12-18T02:37:17.161934Z"
    }
   },
   "outputs": [
    {
     "data": {
      "text/html": [
       "<div>\n",
       "<style scoped>\n",
       "    .dataframe tbody tr th:only-of-type {\n",
       "        vertical-align: middle;\n",
       "    }\n",
       "\n",
       "    .dataframe tbody tr th {\n",
       "        vertical-align: top;\n",
       "    }\n",
       "\n",
       "    .dataframe thead th {\n",
       "        text-align: right;\n",
       "    }\n",
       "</style>\n",
       "<table border=\"1\" class=\"dataframe\">\n",
       "  <thead>\n",
       "    <tr style=\"text-align: right;\">\n",
       "      <th></th>\n",
       "      <th>T</th>\n",
       "      <th>dof</th>\n",
       "      <th>alternative</th>\n",
       "      <th>p-val</th>\n",
       "      <th>CI95%</th>\n",
       "      <th>cohen-d</th>\n",
       "      <th>BF10</th>\n",
       "      <th>power</th>\n",
       "    </tr>\n",
       "  </thead>\n",
       "  <tbody>\n",
       "    <tr>\n",
       "      <th>T-test</th>\n",
       "      <td>2.340102</td>\n",
       "      <td>10</td>\n",
       "      <td>two-sided</td>\n",
       "      <td>0.041332</td>\n",
       "      <td>[0.3, 12.07]</td>\n",
       "      <td>0.595548</td>\n",
       "      <td>1.975</td>\n",
       "      <td>0.430867</td>\n",
       "    </tr>\n",
       "  </tbody>\n",
       "</table>\n",
       "</div>"
      ],
      "text/plain": [
       "               T  dof alternative     p-val         CI95%   cohen-d   BF10  \\\n",
       "T-test  2.340102   10   two-sided  0.041332  [0.3, 12.07]  0.595548  1.975   \n",
       "\n",
       "           power  \n",
       "T-test  0.430867  "
      ]
     },
     "execution_count": 91,
     "metadata": {},
     "output_type": "execute_result"
    }
   ],
   "source": [
    "result = pg.ttest(df['Before'], df['After'], paired=True)\n",
    "result"
   ]
  },
  {
   "cell_type": "markdown",
   "id": "d9fc89e2",
   "metadata": {
    "ExecuteTime": {
     "end_time": "2021-12-18T02:38:52.990713Z",
     "start_time": "2021-12-18T02:38:52.988221Z"
    }
   },
   "source": [
    "#### P-value\n",
    "If the null hypothesis is true (drug is not effective), there is a 4.13% chance of seeing a difference of 6.18 or more by chance between samples."
   ]
  },
  {
   "cell_type": "markdown",
   "id": "ed2ab18a",
   "metadata": {},
   "source": [
    "#### T statistic\n",
    "\n",
    "The T statistic is a ratio between the difference between two groups and the difference within the groups. The larger the T statistic, the more difference there is between groups. The smaller the T statistic, the more similarity there is between groups.<br>\n",
    "\n",
    "$$t = \\frac{\\overline{d} - \\mu}{\\frac{s}{\\sqrt{n}}}$$\n",
    "\n",
    "* *Where $\\overline{d}$ is the mean of the difference* <br>\n",
    "* *s is the standard deviation of the difference* <br>\n",
    "* *n is the sample size* <br>"
   ]
  },
  {
   "cell_type": "code",
   "execution_count": 95,
   "id": "cbb53745",
   "metadata": {
    "ExecuteTime": {
     "end_time": "2021-12-18T02:40:08.356911Z",
     "start_time": "2021-12-18T02:40:08.339925Z"
    }
   },
   "outputs": [
    {
     "name": "stdout",
     "output_type": "stream",
     "text": [
      "-2.3401020679234024\n"
     ]
    }
   ],
   "source": [
    "SE = diff.std()/np.sqrt(len(df)) # Standard Error\n",
    "t_score = (diff.mean() - 0) / SE"
   ]
  },
  {
   "cell_type": "code",
   "execution_count": 68,
   "id": "111dc66a",
   "metadata": {
    "ExecuteTime": {
     "end_time": "2021-12-18T02:27:04.539441Z",
     "start_time": "2021-12-18T02:27:04.271159Z"
    }
   },
   "outputs": [
    {
     "data": {
      "image/png": "[encoded data removed]",
      "text/plain": [
       "<Figure size 432x288 with 1 Axes>"
      ]
     },
     "metadata": {},
     "output_type": "display_data"
    },
    {
     "name": "stdout",
     "output_type": "stream",
     "text": [
      "Critical T-score: +-2.228 and T-score: -2.34\n"
     ]
    }
   ],
   "source": [
    "## Setup      \n",
    "dof = len(df)-1       # Degrees of freedom\n",
    "alpha = 0.05    # Significence level\n",
    "ntails = 2      # Number of tails \n",
    "\n",
    "## Calculate critical t\n",
    "critical_t = stats.t.ppf(q=1-(alpha/2),df=dof)\n",
    "\n",
    "plt.figure()\n",
    "xs = np.linspace(-10,10,1000)\n",
    "plt.plot(xs, stats.t.pdf(xs,dof), 'k', label=\"T-Distribution PDF\")\n",
    "\n",
    "## Plot some vertical lines representing critical t-score cutoff\n",
    "plt.axvline(critical_t, ymin=0.045, ymax=0.95, color='red', label='Critical T-scores')\n",
    "if ntails == 2: \n",
    "    plt.axvline(-critical_t, ymin=0.045, ymax=0.95, color='red')\n",
    "plt.axvline(t_score, ymin=0.045, ymax=0.95, color='blue', label='T-score')\n",
    "plt.legend()\n",
    "plt.show()\n",
    "\n",
    "print('Critical T-score: +-{} and T-score: {}'.format(round(critical_t,3),round(float(t_score),3)))"
   ]
  },
  {
   "cell_type": "markdown",
   "id": "f1193872",
   "metadata": {},
   "source": [
    "#### Confidence Interval\n",
    "\n",
    "If we take 100 random samples from the population, we would expect 95% of the samples to have a difference in the range: [0.3, 12.07]"
   ]
  },
  {
   "cell_type": "markdown",
   "id": "73d391e9",
   "metadata": {},
   "source": [
    "#### Cohen's D"
   ]
  },
  {
   "cell_type": "markdown",
   "id": "49b49db8",
   "metadata": {},
   "source": [
    "Also referred as Standardized Mean Difference, Cohen's D is one of the most common ways to measure effect size (how large an effect is). For example, medication A has a larger effect than medication B. While a p-value can tell you if there is an effect, it won't tell you how large that effect is.\n",
    "Cohen (1988) suggested that d=0.2 should be considered a 'small' effect size, 0.5 is a 'medium' effect size, and that 0.8 is a 'large' effect size. This means that if two groups' means don't differ by 0.2 standard deviations or more, the difference is trivial, even if it is statistically significant."
   ]
  },
  {
   "cell_type": "markdown",
   "id": "1c0c4e2f",
   "metadata": {},
   "source": [
    "#### BF10\n",
    "\n",
    "30-100: Very strong evidence for $H_a$<br>\n",
    "10-30: Strong evidence for $H_a$<br>\n",
    "3-10: Moderate evidence for $H_a$<br>\n",
    "**1-3: Little evidence for $H_a$**<br>\n",
    "1: No evidence<br>\n",
    "1-3: Little evidence for $H_0$<br>\n",
    "3-10: Moderate evidence for $H_0$<br>\n",
    "10-30: Strong evidence for $H_0$<br>\n",
    "30-100: Very strong evidence for $H_0$<br>"
   ]
  },
  {
   "cell_type": "markdown",
   "id": "4989db9f",
   "metadata": {},
   "source": [
    "#### Power\n",
    "\n",
    "The probability of rejecting the Null Hypothesis when it is false (correct decision)."
   ]
  },
  {
   "cell_type": "markdown",
   "id": "e5eeaad1",
   "metadata": {},
   "source": [
    "## Conclusion\n",
    "\n",
    "The results from the test based on the \"before\" data (M = 137.45, SD = 11.5) and \"After\" data (M = 131.27, SD = 9.11) suggest that the treatment resulted in a reduction of Systolic Blood Pressure, t(10) = -2.34, p < 0.05"
   ]
  }
 ],
 "metadata": {
  "kernelspec": {
   "display_name": "Python 3 (ipykernel)",
   "language": "python",
   "name": "python3"
  },
  "language_info": {
   "codemirror_mode": {
    "name": "ipython",
    "version": 3
   },
   "file_extension": ".py",
   "mimetype": "text/x-python",
   "name": "python",
   "nbconvert_exporter": "python",
   "pygments_lexer": "ipython3",
   "version": "3.9.7"
  },
  "toc": {
   "base_numbering": 1,
   "nav_menu": {},
   "number_sections": true,
   "sideBar": true,
   "skip_h1_title": false,
   "title_cell": "Table of Contents",
   "title_sidebar": "Contents",
   "toc_cell": false,
   "toc_position": {
    "height": "calc(100% - 180px)",
    "left": "10px",
    "top": "150px",
    "width": "203px"
   },
   "toc_section_display": true,
   "toc_window_display": false
  },
  "varInspector": {
   "cols": {
    "lenName": 16,
    "lenType": 16,
    "lenVar": 40
   },
   "kernels_config": {
    "python": {
     "delete_cmd_postfix": "",
     "delete_cmd_prefix": "del ",
     "library": "var_list.py",
     "varRefreshCmd": "print(var_dic_list())"
    },
    "r": {
     "delete_cmd_postfix": ") ",
     "delete_cmd_prefix": "rm(",
     "library": "var_list.r",
     "varRefreshCmd": "cat(var_dic_list()) "
    }
   },
   "types_to_exclude": [
    "module",
    "function",
    "builtin_function_or_method",
    "instance",
    "_Feature"
   ],
   "window_display": false
  }
 },
 "nbformat": 4,
 "nbformat_minor": 5
}
