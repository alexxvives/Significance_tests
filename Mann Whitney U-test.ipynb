{
 "cells": [
  {
   "cell_type": "markdown",
   "id": "af4f8fd4",
   "metadata": {},
   "source": [
    "# Mann Whitney U-test"
   ]
  },
  {
   "cell_type": "markdown",
   "id": "6ec0ae2d",
   "metadata": {},
   "source": [
    "**What is an Mann Whitney U-test?**<br>\n",
    "The Mann-Whitney U-test checks whether there is a difference between two independent groups (non-parametric counterpart of Independent T-test).<br>\n",
    "While the T-test checks for a difference in means, Mann Whitney U-test checks for a difference in rank sum (therefore the data needs to be ordinal)<br>\n",
    "Note that there is no need for the data to be normally distributed!<br>\n",
    "\n",
    "*What is a rank sum?* <br>A rank is assigned to all participants across the samples, then the sum of the ranks is computed for each sample group."
   ]
  },
  {
   "cell_type": "markdown",
   "id": "08b9fcf8",
   "metadata": {
    "ExecuteTime": {
     "end_time": "2021-12-18T05:36:24.773824Z",
     "start_time": "2021-12-18T05:36:24.763851Z"
    }
   },
   "source": [
    "<img src=\"/Images/ranksum.png\" width=300>"
   ]
  },
  {
   "cell_type": "markdown",
   "id": "bbab43b1",
   "metadata": {},
   "source": [
    "## Data Import"
   ]
  },
  {
   "cell_type": "code",
   "execution_count": 8,
   "id": "194452c5",
   "metadata": {
    "ExecuteTime": {
     "end_time": "2021-12-18T05:39:46.469952Z",
     "start_time": "2021-12-18T05:39:42.496583Z"
    }
   },
   "outputs": [],
   "source": [
    "import numpy as np\n",
    "import pandas as pd\n",
    "import matplotlib.pyplot as plt\n",
    "import seaborn as sns\n",
    "import numpy.random as rnd\n",
    "from random import sample\n",
    "import statsmodels.api as sm\n",
    "import scipy.stats as stats\n",
    "import pingouin as pg\n",
    "\n",
    "import warnings\n",
    "warnings.filterwarnings(\"ignore\")\n",
    "\n",
    "sns.set_style('darkgrid')"
   ]
  },
  {
   "cell_type": "code",
   "execution_count": 101,
   "id": "439d1de9",
   "metadata": {
    "ExecuteTime": {
     "end_time": "2021-12-18T06:43:53.430755Z",
     "start_time": "2021-12-18T06:43:53.261183Z"
    }
   },
   "outputs": [
    {
     "data": {
      "text/html": [
       "<div>\n",
       "<style scoped>\n",
       "    .dataframe tbody tr th:only-of-type {\n",
       "        vertical-align: middle;\n",
       "    }\n",
       "\n",
       "    .dataframe tbody tr th {\n",
       "        vertical-align: top;\n",
       "    }\n",
       "\n",
       "    .dataframe thead th {\n",
       "        text-align: right;\n",
       "    }\n",
       "</style>\n",
       "<table border=\"1\" class=\"dataframe\">\n",
       "  <thead>\n",
       "    <tr style=\"text-align: right;\">\n",
       "      <th></th>\n",
       "      <th>control</th>\n",
       "      <th>treatment</th>\n",
       "    </tr>\n",
       "  </thead>\n",
       "  <tbody>\n",
       "    <tr>\n",
       "      <th>0</th>\n",
       "      <td>7</td>\n",
       "      <td>3</td>\n",
       "    </tr>\n",
       "    <tr>\n",
       "      <th>1</th>\n",
       "      <td>5</td>\n",
       "      <td>6</td>\n",
       "    </tr>\n",
       "    <tr>\n",
       "      <th>2</th>\n",
       "      <td>6</td>\n",
       "      <td>4</td>\n",
       "    </tr>\n",
       "    <tr>\n",
       "      <th>3</th>\n",
       "      <td>4</td>\n",
       "      <td>2</td>\n",
       "    </tr>\n",
       "    <tr>\n",
       "      <th>4</th>\n",
       "      <td>12</td>\n",
       "      <td>1</td>\n",
       "    </tr>\n",
       "  </tbody>\n",
       "</table>\n",
       "</div>"
      ],
      "text/plain": [
       "   control  treatment\n",
       "0        7          3\n",
       "1        5          6\n",
       "2        6          4\n",
       "3        4          2\n",
       "4       12          1"
      ]
     },
     "execution_count": 101,
     "metadata": {},
     "output_type": "execute_result"
    }
   ],
   "source": [
    "# Dataset of panic attacks between two samples divided into control and treatment groups\n",
    "link = 'https://raw.githubusercontent.com/alexxvives/Significance_tests/main/Data/Utest_data.csv'\n",
    "df = pd.read_csv(link)\n",
    "\n",
    "df.head()"
   ]
  },
  {
   "cell_type": "code",
   "execution_count": 18,
   "id": "685799a0",
   "metadata": {
    "ExecuteTime": {
     "end_time": "2021-12-18T05:42:57.561878Z",
     "start_time": "2021-12-18T05:42:57.530939Z"
    }
   },
   "outputs": [
    {
     "data": {
      "text/html": [
       "<div>\n",
       "<style scoped>\n",
       "    .dataframe tbody tr th:only-of-type {\n",
       "        vertical-align: middle;\n",
       "    }\n",
       "\n",
       "    .dataframe tbody tr th {\n",
       "        vertical-align: top;\n",
       "    }\n",
       "\n",
       "    .dataframe thead th {\n",
       "        text-align: right;\n",
       "    }\n",
       "</style>\n",
       "<table border=\"1\" class=\"dataframe\">\n",
       "  <thead>\n",
       "    <tr style=\"text-align: right;\">\n",
       "      <th></th>\n",
       "      <th>count</th>\n",
       "      <th>mean</th>\n",
       "      <th>std</th>\n",
       "      <th>min</th>\n",
       "      <th>25%</th>\n",
       "      <th>50%</th>\n",
       "      <th>75%</th>\n",
       "      <th>max</th>\n",
       "    </tr>\n",
       "  </thead>\n",
       "  <tbody>\n",
       "    <tr>\n",
       "      <th>control</th>\n",
       "      <td>7.0</td>\n",
       "      <td>7.285714</td>\n",
       "      <td>2.690371</td>\n",
       "      <td>4.0</td>\n",
       "      <td>5.5</td>\n",
       "      <td>7.0</td>\n",
       "      <td>8.5</td>\n",
       "      <td>12.0</td>\n",
       "    </tr>\n",
       "    <tr>\n",
       "      <th>treatment</th>\n",
       "      <td>7.0</td>\n",
       "      <td>3.142857</td>\n",
       "      <td>1.951800</td>\n",
       "      <td>1.0</td>\n",
       "      <td>1.5</td>\n",
       "      <td>3.0</td>\n",
       "      <td>4.5</td>\n",
       "      <td>6.0</td>\n",
       "    </tr>\n",
       "  </tbody>\n",
       "</table>\n",
       "</div>"
      ],
      "text/plain": [
       "           count      mean       std  min  25%  50%  75%   max\n",
       "control      7.0  7.285714  2.690371  4.0  5.5  7.0  8.5  12.0\n",
       "treatment    7.0  3.142857  1.951800  1.0  1.5  3.0  4.5   6.0"
      ]
     },
     "execution_count": 18,
     "metadata": {},
     "output_type": "execute_result"
    }
   ],
   "source": [
    "df.describe().T"
   ]
  },
  {
   "cell_type": "code",
   "execution_count": 20,
   "id": "1a5c1ef3",
   "metadata": {
    "ExecuteTime": {
     "end_time": "2021-12-18T05:43:27.970255Z",
     "start_time": "2021-12-18T05:43:27.608774Z"
    }
   },
   "outputs": [
    {
     "data": {
      "image/png": "[encoded data removed]",
      "text/plain": [
       "<Figure size 1080x360 with 2 Axes>"
      ]
     },
     "metadata": {},
     "output_type": "display_data"
    }
   ],
   "source": [
    "fig, axes = plt.subplots(1, 2, figsize=(15, 5))\n",
    "sns.kdeplot(ax=axes[0], x=df['control'], shade=True, label='control')\n",
    "sns.kdeplot(ax=axes[0], x=df['treatment'], shade=True, label='treatment')\n",
    "axes[0].set_title(\"KDE plot\")\n",
    "sns.boxplot(ax=axes[1], data=df)\n",
    "axes[1].set_title('Boxplot per group')\n",
    "\n",
    "axes[0].legend()\n",
    "plt.show()"
   ]
  },
  {
   "cell_type": "markdown",
   "id": "b5a313d6",
   "metadata": {
    "heading_collapsed": true
   },
   "source": [
    "## Hypothesis\n",
    "\n",
    "$H_0$: The sum of ranks between the two sample groups is the same.<br>\n",
    "$H_a$: The sum of ranks between the two sample groups is different."
   ]
  },
  {
   "cell_type": "markdown",
   "id": "2b447459",
   "metadata": {
    "heading_collapsed": true
   },
   "source": [
    "## Assumptions\n",
    "\n",
    "* Assumption 1: There is an ordinal dependent variable (panic attacks) and a categorical independent variable (control/treatment)\n",
    "* Assumptions 2: The data is collected from a representative, randomly selected portion of the total population.\n",
    "\n",
    "* If assumption 2 is failed, a Wilcoxon signed-rank test can be used."
   ]
  },
  {
   "cell_type": "markdown",
   "id": "f070e968",
   "metadata": {
    "heading_collapsed": true
   },
   "source": [
    "## Mann Whitney U-test"
   ]
  },
  {
   "cell_type": "code",
   "execution_count": 84,
   "id": "edcfeea5",
   "metadata": {
    "ExecuteTime": {
     "end_time": "2021-12-18T06:34:56.677217Z",
     "start_time": "2021-12-18T06:34:56.650655Z"
    },
    "hidden": true
   },
   "outputs": [
    {
     "data": {
      "text/html": [
       "<div>\n",
       "<style scoped>\n",
       "    .dataframe tbody tr th:only-of-type {\n",
       "        vertical-align: middle;\n",
       "    }\n",
       "\n",
       "    .dataframe tbody tr th {\n",
       "        vertical-align: top;\n",
       "    }\n",
       "\n",
       "    .dataframe thead th {\n",
       "        text-align: right;\n",
       "    }\n",
       "</style>\n",
       "<table border=\"1\" class=\"dataframe\">\n",
       "  <thead>\n",
       "    <tr style=\"text-align: right;\">\n",
       "      <th></th>\n",
       "      <th>U-val</th>\n",
       "      <th>alternative</th>\n",
       "      <th>p-val</th>\n",
       "      <th>RBC</th>\n",
       "      <th>CLES</th>\n",
       "    </tr>\n",
       "  </thead>\n",
       "  <tbody>\n",
       "    <tr>\n",
       "      <th>MWU</th>\n",
       "      <td>44.5</td>\n",
       "      <td>two-sided</td>\n",
       "      <td>0.011072</td>\n",
       "      <td>-0.816327</td>\n",
       "      <td>0.908163</td>\n",
       "    </tr>\n",
       "  </tbody>\n",
       "</table>\n",
       "</div>"
      ],
      "text/plain": [
       "     U-val alternative     p-val       RBC      CLES\n",
       "MWU   44.5   two-sided  0.011072 -0.816327  0.908163"
      ]
     },
     "execution_count": 84,
     "metadata": {},
     "output_type": "execute_result"
    }
   ],
   "source": [
    "result = pg.mwu(control, treatment, method='exact') # Method recommended for n<8\n",
    "result"
   ]
  },
  {
   "cell_type": "markdown",
   "id": "ed2ab18a",
   "metadata": {
    "hidden": true
   },
   "source": [
    "#### U statistic"
   ]
  },
  {
   "cell_type": "markdown",
   "id": "a839a5ba",
   "metadata": {
    "hidden": true
   },
   "source": [
    "Scipy documentation mentions that the outputed U corresponds to the first sample (control in this case), but the U-statistic is the minimum between the two."
   ]
  },
  {
   "cell_type": "code",
   "execution_count": 93,
   "id": "b11ee85c",
   "metadata": {
    "ExecuteTime": {
     "end_time": "2021-12-18T06:38:43.931819Z",
     "start_time": "2021-12-18T06:38:43.916977Z"
    },
    "hidden": true
   },
   "outputs": [
    {
     "name": "stdout",
     "output_type": "stream",
     "text": [
      "The U-statistic is 4.5\n"
     ]
    }
   ],
   "source": [
    "n_control, n_treatment = len(df['control']), len(df['treatment'])\n",
    "U1 = result['U-val'].values[0]\n",
    "U2 = n_control*n_treatment - U1\n",
    "U_score = min(U1, U2)\n",
    "print('The U-statistic is {}'.format(U_score))"
   ]
  },
  {
   "cell_type": "code",
   "execution_count": 100,
   "id": "73f9c8ef",
   "metadata": {
    "ExecuteTime": {
     "end_time": "2021-12-18T06:41:22.337099Z",
     "start_time": "2021-12-18T06:41:22.327281Z"
    },
    "hidden": true
   },
   "outputs": [],
   "source": [
    "N = n_control + n_treatment\n",
    "z = (U_score - n_control*n_treatment/2 + 0.5) / np.sqrt(n_control*n_treatment * (N + 1)/ 12)"
   ]
  },
  {
   "cell_type": "code",
   "execution_count": 95,
   "id": "111dc66a",
   "metadata": {
    "ExecuteTime": {
     "end_time": "2021-12-18T06:39:00.361692Z",
     "start_time": "2021-12-18T06:38:59.901220Z"
    },
    "hidden": true
   },
   "outputs": [
    {
     "data": {
      "image/png": "[encoded data removed]",
      "text/plain": [
       "<Figure size 432x288 with 1 Axes>"
      ]
     },
     "metadata": {},
     "output_type": "display_data"
    },
    {
     "name": "stdout",
     "output_type": "stream",
     "text": [
      "Critical z-scores: +-1.645 and z-score: -2.492\n"
     ]
    }
   ],
   "source": [
    "## Setup       \n",
    "alpha = 0.05    # Significance level\n",
    "tails = 2\n",
    "\n",
    "## Calculate critical u\n",
    "critical_z = stats.norm.ppf(q=1-alpha)\n",
    "\n",
    "plt.figure()\n",
    "xs = np.linspace(-10,10,100)\n",
    "plt.plot(xs, stats.norm.pdf(xs), 'k', label=\"Normal Distribution PDF\")\n",
    "         \n",
    "## Plot some vertical lines representing critical t-score cutoff\n",
    "plt.axvline(critical_z, ymin=0.045, ymax=0.95, color='red', label='Critical z-scores')\n",
    "if tails == 2: \n",
    "    plt.axvline(-critical_z, ymin=0.045, ymax=0.95, color='red')\n",
    "plt.axvline(z, ymin=0.045, ymax=0.95, color='blue', label='z-score')\n",
    "plt.legend()\n",
    "plt.show()\n",
    "\n",
    "print('Critical z-scores: +-{} and z-score: {}'.format(round(critical_z,3),round(float(z),3)))"
   ]
  },
  {
   "cell_type": "markdown",
   "id": "e5eeaad1",
   "metadata": {},
   "source": [
    "## Conclusion\n",
    "\n",
    "The results from the test based on the control group (M = 7.28, SD = 2695) and \"After\" data (M = 3.14, SD = 1.95) suggest that the treatment resulted in a reduction of panic attacks, U = 4.5, p < 0.05"
   ]
  }
 ],
 "metadata": {
  "kernelspec": {
   "display_name": "Python 3 (ipykernel)",
   "language": "python",
   "name": "python3"
  },
  "language_info": {
   "codemirror_mode": {
    "name": "ipython",
    "version": 3
   },
   "file_extension": ".py",
   "mimetype": "text/x-python",
   "name": "python",
   "nbconvert_exporter": "python",
   "pygments_lexer": "ipython3",
   "version": "3.9.7"
  },
  "toc": {
   "base_numbering": 1,
   "nav_menu": {},
   "number_sections": true,
   "sideBar": true,
   "skip_h1_title": false,
   "title_cell": "Table of Contents",
   "title_sidebar": "Contents",
   "toc_cell": false,
   "toc_position": {
    "height": "calc(100% - 180px)",
    "left": "10px",
    "top": "150px",
    "width": "203px"
   },
   "toc_section_display": true,
   "toc_window_display": true
  },
  "varInspector": {
   "cols": {
    "lenName": 16,
    "lenType": 16,
    "lenVar": 40
   },
   "kernels_config": {
    "python": {
     "delete_cmd_postfix": "",
     "delete_cmd_prefix": "del ",
     "library": "var_list.py",
     "varRefreshCmd": "print(var_dic_list())"
    },
    "r": {
     "delete_cmd_postfix": ") ",
     "delete_cmd_prefix": "rm(",
     "library": "var_list.r",
     "varRefreshCmd": "cat(var_dic_list()) "
    }
   },
   "types_to_exclude": [
    "module",
    "function",
    "builtin_function_or_method",
    "instance",
    "_Feature"
   ],
   "window_display": false
  }
 },
 "nbformat": 4,
 "nbformat_minor": 5
}
