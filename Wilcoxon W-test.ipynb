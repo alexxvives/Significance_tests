{
 "cells": [
  {
   "cell_type": "markdown",
   "id": "af4f8fd4",
   "metadata": {},
   "source": [
    "# Wilcoxon Signed-Rank W-test"
   ]
  },
  {
   "cell_type": "markdown",
   "id": "6ec0ae2d",
   "metadata": {},
   "source": [
    "**What is the Wilcoxon T-test?**<br>\n",
    "The Wilcoxon T-test checks whether there is a difference between two matched groups (non-parametric counterpart of Dependent T-test).<br>\n",
    "While the T-test checks for a difference in means, Wilcoxon T-test checks for a difference in rank sum (therefore the data needs to be ordinal)<br>\n",
    "Note that there is no need for the data to be normally distributed!<br>\n",
    "\n",
    "*What is a rank sum?* <br>A rank is assigned to all participants across the samples, then the sum of the ranks is computed for each sample group."
   ]
  },
  {
   "cell_type": "markdown",
   "id": "bbab43b1",
   "metadata": {},
   "source": [
    "## Data Import"
   ]
  },
  {
   "cell_type": "code",
   "execution_count": 2,
   "id": "194452c5",
   "metadata": {
    "ExecuteTime": {
     "end_time": "2021-12-19T01:40:53.029250Z",
     "start_time": "2021-12-19T01:40:47.388652Z"
    }
   },
   "outputs": [],
   "source": [
    "import numpy as np\n",
    "import pandas as pd\n",
    "import matplotlib.pyplot as plt\n",
    "import seaborn as sns\n",
    "import numpy.random as rnd\n",
    "from random import sample\n",
    "import statsmodels.api as sm\n",
    "import scipy.stats as stats\n",
    "import pingouin as pg\n",
    "\n",
    "import warnings\n",
    "warnings.filterwarnings(\"ignore\")\n",
    "\n",
    "sns.set_style('darkgrid')"
   ]
  },
  {
   "cell_type": "code",
   "execution_count": 51,
   "id": "439d1de9",
   "metadata": {
    "ExecuteTime": {
     "end_time": "2021-12-19T02:22:46.198455Z",
     "start_time": "2021-12-19T02:22:45.654859Z"
    }
   },
   "outputs": [
    {
     "data": {
      "text/html": [
       "<div>\n",
       "<style scoped>\n",
       "    .dataframe tbody tr th:only-of-type {\n",
       "        vertical-align: middle;\n",
       "    }\n",
       "\n",
       "    .dataframe tbody tr th {\n",
       "        vertical-align: top;\n",
       "    }\n",
       "\n",
       "    .dataframe thead th {\n",
       "        text-align: right;\n",
       "    }\n",
       "</style>\n",
       "<table border=\"1\" class=\"dataframe\">\n",
       "  <thead>\n",
       "    <tr style=\"text-align: right;\">\n",
       "      <th></th>\n",
       "      <th>control</th>\n",
       "      <th>treatment</th>\n",
       "    </tr>\n",
       "  </thead>\n",
       "  <tbody>\n",
       "    <tr>\n",
       "      <th>0</th>\n",
       "      <td>4</td>\n",
       "      <td>1</td>\n",
       "    </tr>\n",
       "    <tr>\n",
       "      <th>1</th>\n",
       "      <td>5</td>\n",
       "      <td>3</td>\n",
       "    </tr>\n",
       "    <tr>\n",
       "      <th>2</th>\n",
       "      <td>4</td>\n",
       "      <td>2</td>\n",
       "    </tr>\n",
       "    <tr>\n",
       "      <th>3</th>\n",
       "      <td>5</td>\n",
       "      <td>1</td>\n",
       "    </tr>\n",
       "    <tr>\n",
       "      <th>4</th>\n",
       "      <td>6</td>\n",
       "      <td>4</td>\n",
       "    </tr>\n",
       "  </tbody>\n",
       "</table>\n",
       "</div>"
      ],
      "text/plain": [
       "   control  treatment\n",
       "0        4          1\n",
       "1        5          3\n",
       "2        4          2\n",
       "3        5          1\n",
       "4        6          4"
      ]
     },
     "execution_count": 51,
     "metadata": {},
     "output_type": "execute_result"
    }
   ],
   "source": [
    "# Dataset of panic attacks between two samples divided into control and treatment groups\n",
    "link = 'https://raw.githubusercontent.com/alexxvives/Significance_tests/main/Data/Wilcoxon_data.csv'\n",
    "df = pd.read_csv(link)\n",
    "\n",
    "df.head()"
   ]
  },
  {
   "cell_type": "code",
   "execution_count": 6,
   "id": "685799a0",
   "metadata": {
    "ExecuteTime": {
     "end_time": "2021-12-19T01:43:33.589073Z",
     "start_time": "2021-12-19T01:43:33.561180Z"
    }
   },
   "outputs": [
    {
     "data": {
      "text/html": [
       "<div>\n",
       "<style scoped>\n",
       "    .dataframe tbody tr th:only-of-type {\n",
       "        vertical-align: middle;\n",
       "    }\n",
       "\n",
       "    .dataframe tbody tr th {\n",
       "        vertical-align: top;\n",
       "    }\n",
       "\n",
       "    .dataframe thead th {\n",
       "        text-align: right;\n",
       "    }\n",
       "</style>\n",
       "<table border=\"1\" class=\"dataframe\">\n",
       "  <thead>\n",
       "    <tr style=\"text-align: right;\">\n",
       "      <th></th>\n",
       "      <th>count</th>\n",
       "      <th>mean</th>\n",
       "      <th>std</th>\n",
       "      <th>min</th>\n",
       "      <th>25%</th>\n",
       "      <th>50%</th>\n",
       "      <th>75%</th>\n",
       "      <th>max</th>\n",
       "    </tr>\n",
       "  </thead>\n",
       "  <tbody>\n",
       "    <tr>\n",
       "      <th>control</th>\n",
       "      <td>23.0</td>\n",
       "      <td>6.826087</td>\n",
       "      <td>3.961774</td>\n",
       "      <td>3.0</td>\n",
       "      <td>4.5</td>\n",
       "      <td>6.0</td>\n",
       "      <td>7.0</td>\n",
       "      <td>18.0</td>\n",
       "    </tr>\n",
       "    <tr>\n",
       "      <th>treatment</th>\n",
       "      <td>23.0</td>\n",
       "      <td>3.173913</td>\n",
       "      <td>2.309116</td>\n",
       "      <td>0.0</td>\n",
       "      <td>1.5</td>\n",
       "      <td>3.0</td>\n",
       "      <td>4.0</td>\n",
       "      <td>9.0</td>\n",
       "    </tr>\n",
       "  </tbody>\n",
       "</table>\n",
       "</div>"
      ],
      "text/plain": [
       "           count      mean       std  min  25%  50%  75%   max\n",
       "control     23.0  6.826087  3.961774  3.0  4.5  6.0  7.0  18.0\n",
       "treatment   23.0  3.173913  2.309116  0.0  1.5  3.0  4.0   9.0"
      ]
     },
     "execution_count": 6,
     "metadata": {},
     "output_type": "execute_result"
    }
   ],
   "source": [
    "df.describe().T"
   ]
  },
  {
   "cell_type": "code",
   "execution_count": 18,
   "id": "1a5c1ef3",
   "metadata": {
    "ExecuteTime": {
     "end_time": "2021-12-19T01:46:07.044349Z",
     "start_time": "2021-12-19T01:46:06.432721Z"
    }
   },
   "outputs": [
    {
     "data": {
      "image/png": "[encoded data removed]",
      "text/plain": [
       "<Figure size 1080x360 with 2 Axes>"
      ]
     },
     "metadata": {},
     "output_type": "display_data"
    }
   ],
   "source": [
    "fig, axes = plt.subplots(1, 2, figsize=(15, 5))\n",
    "sns.kdeplot(ax=axes[0], x=df['control'], shade=True, label='control')\n",
    "sns.kdeplot(ax=axes[0], x=df['treatment'], shade=True, label='treatment')\n",
    "axes[0].set_title(\"KDE plot\")\n",
    "sns.boxplot(ax=axes[1], data=df)\n",
    "axes[1].set_title('Boxplot per group')\n",
    "\n",
    "axes[0].legend()\n",
    "plt.show()"
   ]
  },
  {
   "cell_type": "markdown",
   "id": "b5a313d6",
   "metadata": {
    "heading_collapsed": true
   },
   "source": [
    "## Hypothesis\n",
    "\n",
    "$H_0$: The sum of ranks of the difference between the two sample groups is the same.<br>\n",
    "$H_a$: The sum of ranks of the difference between the two sample groups is different."
   ]
  },
  {
   "cell_type": "markdown",
   "id": "2b447459",
   "metadata": {
    "heading_collapsed": true
   },
   "source": [
    "## Assumptions\n",
    "\n",
    "* Assumption 1: There is an ordinal dependent variable (panic attacks) and a categorical independent variable (control/treatment)\n",
    "* Assumptions 2: The data is collected from a representative, randomly selected portion of the total population."
   ]
  },
  {
   "cell_type": "markdown",
   "id": "f070e968",
   "metadata": {},
   "source": [
    "## Wilcoxon W-test"
   ]
  },
  {
   "cell_type": "code",
   "execution_count": 21,
   "id": "edcfeea5",
   "metadata": {
    "ExecuteTime": {
     "end_time": "2021-12-19T01:48:09.094712Z",
     "start_time": "2021-12-19T01:48:09.063616Z"
    }
   },
   "outputs": [
    {
     "data": {
      "text/html": [
       "<div>\n",
       "<style scoped>\n",
       "    .dataframe tbody tr th:only-of-type {\n",
       "        vertical-align: middle;\n",
       "    }\n",
       "\n",
       "    .dataframe tbody tr th {\n",
       "        vertical-align: top;\n",
       "    }\n",
       "\n",
       "    .dataframe thead th {\n",
       "        text-align: right;\n",
       "    }\n",
       "</style>\n",
       "<table border=\"1\" class=\"dataframe\">\n",
       "  <thead>\n",
       "    <tr style=\"text-align: right;\">\n",
       "      <th></th>\n",
       "      <th>W-val</th>\n",
       "      <th>alternative</th>\n",
       "      <th>p-val</th>\n",
       "      <th>RBC</th>\n",
       "      <th>CLES</th>\n",
       "    </tr>\n",
       "  </thead>\n",
       "  <tbody>\n",
       "    <tr>\n",
       "      <th>Wilcoxon</th>\n",
       "      <td>16.5</td>\n",
       "      <td>two-sided</td>\n",
       "      <td>0.000049</td>\n",
       "      <td>0.880435</td>\n",
       "      <td>0.772212</td>\n",
       "    </tr>\n",
       "  </tbody>\n",
       "</table>\n",
       "</div>"
      ],
      "text/plain": [
       "          W-val alternative     p-val       RBC      CLES\n",
       "Wilcoxon   16.5   two-sided  0.000049  0.880435  0.772212"
      ]
     },
     "execution_count": 21,
     "metadata": {},
     "output_type": "execute_result"
    }
   ],
   "source": [
    "result = pg.wilcoxon(df['control'], df['treatment'])\n",
    "result"
   ]
  },
  {
   "cell_type": "markdown",
   "id": "ed2ab18a",
   "metadata": {},
   "source": [
    "#### W statistic"
   ]
  },
  {
   "cell_type": "code",
   "execution_count": 45,
   "id": "b11ee85c",
   "metadata": {
    "ExecuteTime": {
     "end_time": "2021-12-19T02:20:00.149637Z",
     "start_time": "2021-12-19T02:20:00.137482Z"
    }
   },
   "outputs": [
    {
     "data": {
      "text/plain": [
       "16.5"
      ]
     },
     "execution_count": 45,
     "metadata": {},
     "output_type": "execute_result"
    }
   ],
   "source": [
    "W_score = result['W-val'].values[0]"
   ]
  },
  {
   "cell_type": "code",
   "execution_count": 43,
   "id": "cb0a28dc",
   "metadata": {
    "ExecuteTime": {
     "end_time": "2021-12-19T02:05:06.790883Z",
     "start_time": "2021-12-19T02:05:06.777754Z"
    }
   },
   "outputs": [],
   "source": [
    "n = len(df)\n",
    "mu = n*(n+1) / 4\n",
    "var = n*(n+1)*(2*n+1) / 24\n",
    "\n",
    "z_score = (W_score - mu) / np.sqrt(var) # Calculate z-score"
   ]
  },
  {
   "cell_type": "code",
   "execution_count": 38,
   "id": "111dc66a",
   "metadata": {
    "ExecuteTime": {
     "end_time": "2021-12-19T02:03:34.630746Z",
     "start_time": "2021-12-19T02:03:34.289738Z"
    }
   },
   "outputs": [
    {
     "data": {
      "image/png": "[encoded data removed]",
      "text/plain": [
       "<Figure size 432x288 with 1 Axes>"
      ]
     },
     "metadata": {},
     "output_type": "display_data"
    },
    {
     "name": "stdout",
     "output_type": "stream",
     "text": [
      "Critical z-scores: +-1.645 and z-score: -3.695\n"
     ]
    }
   ],
   "source": [
    "## Setup       \n",
    "alpha = 0.05    # Significance level\n",
    "tails = 2\n",
    "\n",
    "## Calculate critical z\n",
    "critical_z = stats.norm.ppf(q=1-alpha)\n",
    "\n",
    "plt.figure()\n",
    "xs = np.linspace(-10,10,100)\n",
    "plt.plot(xs, stats.norm.pdf(xs), 'k', label=\"Normal Distribution PDF\")\n",
    "         \n",
    "## Plot some vertical lines representing critical t-score cutoff\n",
    "plt.axvline(critical_z, ymin=0.045, ymax=0.95, color='red', label='Critical z-scores')\n",
    "if tails == 2: \n",
    "    plt.axvline(-critical_z, ymin=0.045, ymax=0.95, color='red')\n",
    "plt.axvline(z_score, ymin=0.045, ymax=0.95, color='blue', label='z-score')\n",
    "plt.legend()\n",
    "plt.show()\n",
    "\n",
    "print('Critical z-scores: +-{} and z-score: {}'.format(round(critical_z,3),round(float(z),3)))"
   ]
  },
  {
   "cell_type": "markdown",
   "id": "e5eeaad1",
   "metadata": {},
   "source": [
    "## Conclusion\n",
    "\n",
    "The results from the test based on the control group (M = 7, SD = 3.82) and \"After\" data (M = 4.3, SD = 4.37) suggest that the treatment resulted in a reduction of panic attacks, W = 16.5, p < 0.05"
   ]
  }
 ],
 "metadata": {
  "kernelspec": {
   "display_name": "Python 3 (ipykernel)",
   "language": "python",
   "name": "python3"
  },
  "language_info": {
   "codemirror_mode": {
    "name": "ipython",
    "version": 3
   },
   "file_extension": ".py",
   "mimetype": "text/x-python",
   "name": "python",
   "nbconvert_exporter": "python",
   "pygments_lexer": "ipython3",
   "version": "3.9.7"
  },
  "toc": {
   "base_numbering": 1,
   "nav_menu": {},
   "number_sections": true,
   "sideBar": true,
   "skip_h1_title": false,
   "title_cell": "Table of Contents",
   "title_sidebar": "Contents",
   "toc_cell": false,
   "toc_position": {
    "height": "calc(100% - 180px)",
    "left": "10px",
    "top": "150px",
    "width": "203px"
   },
   "toc_section_display": true,
   "toc_window_display": true
  },
  "varInspector": {
   "cols": {
    "lenName": 16,
    "lenType": 16,
    "lenVar": 40
   },
   "kernels_config": {
    "python": {
     "delete_cmd_postfix": "",
     "delete_cmd_prefix": "del ",
     "library": "var_list.py",
     "varRefreshCmd": "print(var_dic_list())"
    },
    "r": {
     "delete_cmd_postfix": ") ",
     "delete_cmd_prefix": "rm(",
     "library": "var_list.r",
     "varRefreshCmd": "cat(var_dic_list()) "
    }
   },
   "types_to_exclude": [
    "module",
    "function",
    "builtin_function_or_method",
    "instance",
    "_Feature"
   ],
   "window_display": false
  }
 },
 "nbformat": 4,
 "nbformat_minor": 5
}
